{
 "cells": [
  {
   "cell_type": "code",
   "execution_count": 2,
   "id": "6183610e-86dd-4f87-bf67-00526088c336",
   "metadata": {},
   "outputs": [
    {
     "name": "stdout",
     "output_type": "stream",
     "text": [
      "Requirement already satisfied: pandas in c:\\users\\admin\\anaconda3\\lib\\site-packages (2.2.2)\n",
      "Requirement already satisfied: numpy in c:\\users\\admin\\anaconda3\\lib\\site-packages (1.26.4)\n",
      "Requirement already satisfied: python-dateutil>=2.8.2 in c:\\users\\admin\\anaconda3\\lib\\site-packages (from pandas) (2.9.0.post0)\n",
      "Requirement already satisfied: pytz>=2020.1 in c:\\users\\admin\\anaconda3\\lib\\site-packages (from pandas) (2024.1)\n",
      "Requirement already satisfied: tzdata>=2022.7 in c:\\users\\admin\\anaconda3\\lib\\site-packages (from pandas) (2023.3)\n",
      "Requirement already satisfied: six>=1.5 in c:\\users\\admin\\anaconda3\\lib\\site-packages (from python-dateutil>=2.8.2->pandas) (1.16.0)\n"
     ]
    }
   ],
   "source": [
    "!pip install pandas numpy"
   ]
  },
  {
   "cell_type": "code",
   "execution_count": 3,
   "id": "a2940f4d-1f0c-43a2-923f-5d392f920e08",
   "metadata": {},
   "outputs": [
    {
     "name": "stdout",
     "output_type": "stream",
     "text": [
      "Data loaded. First 3 rows:\n"
     ]
    },
    {
     "data": {
      "text/html": [
       "<div>\n",
       "<style scoped>\n",
       "    .dataframe tbody tr th:only-of-type {\n",
       "        vertical-align: middle;\n",
       "    }\n",
       "\n",
       "    .dataframe tbody tr th {\n",
       "        vertical-align: top;\n",
       "    }\n",
       "\n",
       "    .dataframe thead th {\n",
       "        text-align: right;\n",
       "    }\n",
       "</style>\n",
       "<table border=\"1\" class=\"dataframe\">\n",
       "  <thead>\n",
       "    <tr style=\"text-align: right;\">\n",
       "      <th></th>\n",
       "      <th>Time</th>\n",
       "      <th>V1</th>\n",
       "      <th>V2</th>\n",
       "      <th>V3</th>\n",
       "      <th>V4</th>\n",
       "      <th>V5</th>\n",
       "      <th>V6</th>\n",
       "      <th>V7</th>\n",
       "      <th>V8</th>\n",
       "      <th>V9</th>\n",
       "      <th>...</th>\n",
       "      <th>V21</th>\n",
       "      <th>V22</th>\n",
       "      <th>V23</th>\n",
       "      <th>V24</th>\n",
       "      <th>V25</th>\n",
       "      <th>V26</th>\n",
       "      <th>V27</th>\n",
       "      <th>V28</th>\n",
       "      <th>Amount</th>\n",
       "      <th>Class</th>\n",
       "    </tr>\n",
       "  </thead>\n",
       "  <tbody>\n",
       "    <tr>\n",
       "      <th>0</th>\n",
       "      <td>0.0</td>\n",
       "      <td>-1.359807</td>\n",
       "      <td>-0.072781</td>\n",
       "      <td>2.536347</td>\n",
       "      <td>1.378155</td>\n",
       "      <td>-0.338321</td>\n",
       "      <td>0.462388</td>\n",
       "      <td>0.239599</td>\n",
       "      <td>0.098698</td>\n",
       "      <td>0.363787</td>\n",
       "      <td>...</td>\n",
       "      <td>-0.018307</td>\n",
       "      <td>0.277838</td>\n",
       "      <td>-0.110474</td>\n",
       "      <td>0.066928</td>\n",
       "      <td>0.128539</td>\n",
       "      <td>-0.189115</td>\n",
       "      <td>0.133558</td>\n",
       "      <td>-0.021053</td>\n",
       "      <td>149.62</td>\n",
       "      <td>0</td>\n",
       "    </tr>\n",
       "    <tr>\n",
       "      <th>1</th>\n",
       "      <td>0.0</td>\n",
       "      <td>1.191857</td>\n",
       "      <td>0.266151</td>\n",
       "      <td>0.166480</td>\n",
       "      <td>0.448154</td>\n",
       "      <td>0.060018</td>\n",
       "      <td>-0.082361</td>\n",
       "      <td>-0.078803</td>\n",
       "      <td>0.085102</td>\n",
       "      <td>-0.255425</td>\n",
       "      <td>...</td>\n",
       "      <td>-0.225775</td>\n",
       "      <td>-0.638672</td>\n",
       "      <td>0.101288</td>\n",
       "      <td>-0.339846</td>\n",
       "      <td>0.167170</td>\n",
       "      <td>0.125895</td>\n",
       "      <td>-0.008983</td>\n",
       "      <td>0.014724</td>\n",
       "      <td>2.69</td>\n",
       "      <td>0</td>\n",
       "    </tr>\n",
       "    <tr>\n",
       "      <th>2</th>\n",
       "      <td>1.0</td>\n",
       "      <td>-1.358354</td>\n",
       "      <td>-1.340163</td>\n",
       "      <td>1.773209</td>\n",
       "      <td>0.379780</td>\n",
       "      <td>-0.503198</td>\n",
       "      <td>1.800499</td>\n",
       "      <td>0.791461</td>\n",
       "      <td>0.247676</td>\n",
       "      <td>-1.514654</td>\n",
       "      <td>...</td>\n",
       "      <td>0.247998</td>\n",
       "      <td>0.771679</td>\n",
       "      <td>0.909412</td>\n",
       "      <td>-0.689281</td>\n",
       "      <td>-0.327642</td>\n",
       "      <td>-0.139097</td>\n",
       "      <td>-0.055353</td>\n",
       "      <td>-0.059752</td>\n",
       "      <td>378.66</td>\n",
       "      <td>0</td>\n",
       "    </tr>\n",
       "  </tbody>\n",
       "</table>\n",
       "<p>3 rows × 31 columns</p>\n",
       "</div>"
      ],
      "text/plain": [
       "   Time        V1        V2        V3        V4        V5        V6        V7  \\\n",
       "0   0.0 -1.359807 -0.072781  2.536347  1.378155 -0.338321  0.462388  0.239599   \n",
       "1   0.0  1.191857  0.266151  0.166480  0.448154  0.060018 -0.082361 -0.078803   \n",
       "2   1.0 -1.358354 -1.340163  1.773209  0.379780 -0.503198  1.800499  0.791461   \n",
       "\n",
       "         V8        V9  ...       V21       V22       V23       V24       V25  \\\n",
       "0  0.098698  0.363787  ... -0.018307  0.277838 -0.110474  0.066928  0.128539   \n",
       "1  0.085102 -0.255425  ... -0.225775 -0.638672  0.101288 -0.339846  0.167170   \n",
       "2  0.247676 -1.514654  ...  0.247998  0.771679  0.909412 -0.689281 -0.327642   \n",
       "\n",
       "        V26       V27       V28  Amount  Class  \n",
       "0 -0.189115  0.133558 -0.021053  149.62      0  \n",
       "1  0.125895 -0.008983  0.014724    2.69      0  \n",
       "2 -0.139097 -0.055353 -0.059752  378.66      0  \n",
       "\n",
       "[3 rows x 31 columns]"
      ]
     },
     "execution_count": 3,
     "metadata": {},
     "output_type": "execute_result"
    }
   ],
   "source": [
    "import pandas as pd\n",
    "df = pd.read_csv(r\"D:\\Projects\\creditcard.csv\")  # Note the 'r' before the path\n",
    "print(\"Data loaded. First 3 rows:\")\n",
    "df.head(3)  # Show only 3 rows for quick verification"
   ]
  },
  {
   "cell_type": "code",
   "execution_count": 4,
   "id": "649ca04e-6fc3-4733-b612-24612ea12793",
   "metadata": {},
   "outputs": [
    {
     "name": "stdout",
     "output_type": "stream",
     "text": [
      "Transaction Class Distribution:\n",
      "Legitimate: 99.83%\n",
      "Fraudulent: 0.17%\n"
     ]
    }
   ],
   "source": [
    "fraud_ratio = df['Class'].value_counts(normalize=True) * 100\n",
    "print(\"Transaction Class Distribution:\")\n",
    "print(f\"Legitimate: {fraud_ratio[0]:.2f}%\")\n",
    "print(f\"Fraudulent: {fraud_ratio[1]:.2f}%\")"
   ]
  },
  {
   "cell_type": "code",
   "execution_count": 5,
   "id": "e32f15af-603c-45ea-9d5c-cfa1ff4d9695",
   "metadata": {},
   "outputs": [
    {
     "name": "stdout",
     "output_type": "stream",
     "text": [
      "\n",
      "Scaled Features Summary:\n",
      "          Amount       Time\n",
      "count  284807.00  284807.00\n",
      "mean        0.93       0.12\n",
      "std         3.50       0.56\n",
      "min        -0.31      -0.99\n",
      "25%        -0.23      -0.36\n",
      "50%         0.00       0.00\n",
      "75%         0.77       0.64\n",
      "max       358.68       1.04\n"
     ]
    }
   ],
   "source": [
    "from sklearn.preprocessing import RobustScaler\n",
    "\n",
    "# Normalize the 'Amount' and 'Time' columns (critical for fraud detection)\n",
    "df['Amount'] = RobustScaler().fit_transform(df['Amount'].values.reshape(-1, 1))\n",
    "df['Time'] = RobustScaler().fit_transform(df['Time'].values.reshape(-1, 1))\n",
    "\n",
    "# Verify the scaling worked\n",
    "print(\"\\nScaled Features Summary:\")\n",
    "print(df[['Amount', 'Time']].describe().round(2))"
   ]
  },
  {
   "cell_type": "code",
   "execution_count": 6,
   "id": "ac355376-fd78-4fae-84cb-1bbbc9176023",
   "metadata": {},
   "outputs": [
    {
     "name": "stdout",
     "output_type": "stream",
     "text": [
      "Training set fraud ratio: 0.0017\n",
      "Test set fraud ratio: 0.0017\n",
      "\n",
      "Shapes:\n",
      "Train: (227845, 30)\n",
      "Test: (56962, 30)\n"
     ]
    }
   ],
   "source": [
    "from sklearn.model_selection import train_test_split\n",
    "\n",
    "# Separate features (X) and target (y)\n",
    "X = df.drop('Class', axis=1)\n",
    "y = df['Class']\n",
    "\n",
    "# Split while preserving the fraud ratio in both sets\n",
    "X_train, X_test, y_train, y_test = train_test_split(\n",
    "    X, y, \n",
    "    test_size=0.2, \n",
    "    random_state=42, \n",
    "    stratify=y  # Critical for imbalanced data\n",
    ")\n",
    "\n",
    "# Verify the split\n",
    "print(f\"Training set fraud ratio: {y_train.mean():.4f}\")\n",
    "print(f\"Test set fraud ratio: {y_test.mean():.4f}\")\n",
    "print(f\"\\nShapes:\\nTrain: {X_train.shape}\\nTest: {X_test.shape}\")"
   ]
  },
  {
   "cell_type": "code",
   "execution_count": 7,
   "id": "a031afad-e882-4791-8caa-796abfe2063e",
   "metadata": {},
   "outputs": [
    {
     "name": "stdout",
     "output_type": "stream",
     "text": [
      "Requirement already satisfied: xgboost in c:\\users\\admin\\anaconda3\\lib\\site-packages (3.0.0)\n",
      "Requirement already satisfied: numpy in c:\\users\\admin\\anaconda3\\lib\\site-packages (from xgboost) (1.26.4)\n",
      "Requirement already satisfied: scipy in c:\\users\\admin\\anaconda3\\lib\\site-packages (from xgboost) (1.13.1)\n"
     ]
    }
   ],
   "source": [
    "!pip install xgboost"
   ]
  },
  {
   "cell_type": "code",
   "execution_count": 8,
   "id": "ded4d868-b977-41b1-832c-c14cd3615e7f",
   "metadata": {},
   "outputs": [
    {
     "name": "stdout",
     "output_type": "stream",
     "text": [
      "Classification Report:\n",
      "              precision    recall  f1-score   support\n",
      "\n",
      "           0       1.00      1.00      1.00     56864\n",
      "           1       0.88      0.84      0.86        98\n",
      "\n",
      "    accuracy                           1.00     56962\n",
      "   macro avg       0.94      0.92      0.93     56962\n",
      "weighted avg       1.00      1.00      1.00     56962\n",
      "\n"
     ]
    },
    {
     "data": {
      "image/png": "[encoded data removed]",
      "text/plain": [
       "<Figure size 640x480 with 2 Axes>"
      ]
     },
     "metadata": {},
     "output_type": "display_data"
    }
   ],
   "source": [
    "# First import all required libraries\n",
    "import matplotlib.pyplot as plt\n",
    "from xgboost import XGBClassifier\n",
    "from sklearn.metrics import classification_report, ConfusionMatrixDisplay\n",
    "\n",
    "# Now re-run your model code here\n",
    "model = XGBClassifier(\n",
    "    scale_pos_weight=len(y_train[y_train==0])/len(y_train[y_train==1]), \n",
    "    random_state=42\n",
    ")\n",
    "model.fit(X_train, y_train)\n",
    "\n",
    "# Evaluate\n",
    "y_pred = model.predict(X_test)\n",
    "print(\"Classification Report:\")\n",
    "print(classification_report(y_test, y_pred))\n",
    "\n",
    "# Visualize confusion matrix\n",
    "ConfusionMatrixDisplay.from_predictions(y_test, y_pred)\n",
    "plt.title(\"Baseline XGBoost Performance\")\n",
    "plt.show()"
   ]
  },
  {
   "cell_type": "code",
   "execution_count": 9,
   "id": "97ce1eec-0c81-485f-b7bf-04c3cef58650",
   "metadata": {},
   "outputs": [
    {
     "name": "stdout",
     "output_type": "stream",
     "text": [
      "Resampled class counts:\n",
      "Class\n",
      "0    227451\n",
      "1     22745\n",
      "Name: count, dtype: int64\n"
     ]
    }
   ],
   "source": [
    "from imblearn.over_sampling import SMOTE\n",
    "\n",
    "# Apply SMOTE only to the training data (never touch test data)\n",
    "sm = SMOTE(sampling_strategy=0.1, random_state=42)  # 10% fraud ratio\n",
    "X_res, y_res = sm.fit_resample(X_train, y_train)\n",
    "\n",
    "# Verify new class balance\n",
    "print(\"Resampled class counts:\")\n",
    "print(pd.Series(y_res).value_counts())"
   ]
  },
  {
   "cell_type": "code",
   "execution_count": 10,
   "id": "e8824436-501c-4c59-bdbc-b64d674caa46",
   "metadata": {},
   "outputs": [
    {
     "name": "stdout",
     "output_type": "stream",
     "text": [
      "Improved Classification Report:\n",
      "              precision    recall  f1-score   support\n",
      "\n",
      "           0       1.00      1.00      1.00     56864\n",
      "           1       0.85      0.86      0.85        98\n",
      "\n",
      "    accuracy                           1.00     56962\n",
      "   macro avg       0.92      0.93      0.93     56962\n",
      "weighted avg       1.00      1.00      1.00     56962\n",
      "\n"
     ]
    },
    {
     "data": {
      "image/png": "[encoded data removed]",
      "text/plain": [
       "<Figure size 1200x400 with 4 Axes>"
      ]
     },
     "metadata": {},
     "output_type": "display_data"
    }
   ],
   "source": [
    "# Retrain on resampled data\n",
    "improved_model = XGBClassifier(random_state=42)\n",
    "improved_model.fit(X_res, y_res)\n",
    "\n",
    "# Evaluate\n",
    "y_pred_improved = improved_model.predict(X_test)\n",
    "print(\"Improved Classification Report:\")\n",
    "print(classification_report(y_test, y_pred_improved))\n",
    "\n",
    "# Compare confusion matrices\n",
    "fig, (ax1, ax2) = plt.subplots(1, 2, figsize=(12, 4))\n",
    "ConfusionMatrixDisplay.from_predictions(y_test, y_pred, ax=ax1)\n",
    "ax1.set_title(\"Original Model\")\n",
    "ConfusionMatrixDisplay.from_predictions(y_test, y_pred_improved, ax=ax2)\n",
    "ax2.set_title(\"SMOTE-Enhanced Model\")\n",
    "plt.show()"
   ]
  },
  {
   "cell_type": "code",
   "execution_count": 11,
   "id": "1a7f5a00-26c7-4b4d-bff1-979a60cfa325",
   "metadata": {},
   "outputs": [
    {
     "name": "stdout",
     "output_type": "stream",
     "text": [
      "Isolation Forest Report:\n",
      "              precision    recall  f1-score   support\n",
      "\n",
      "           0       1.00      1.00      1.00     56864\n",
      "           1       0.31      0.34      0.32        98\n",
      "\n",
      "    accuracy                           1.00     56962\n",
      "   macro avg       0.66      0.67      0.66     56962\n",
      "weighted avg       1.00      1.00      1.00     56962\n",
      "\n"
     ]
    }
   ],
   "source": [
    "from sklearn.ensemble import IsolationForest  \n",
    "import numpy as np\n",
    "\n",
    "# Train Isolation Forest (contamination = expected fraud rate ~0.17%)  \n",
    "iso_forest = IsolationForest(  \n",
    "    contamination=0.0017,  # Matches original fraud rate  \n",
    "    random_state=42  \n",
    ")  \n",
    "iso_forest.fit(X_train)  # No need for y_train (unsupervised)  \n",
    "\n",
    "# Predict anomalies (-1 = anomaly, 1 = normal)  \n",
    "iso_preds = iso_forest.predict(X_test)  \n",
    "iso_preds = np.where(iso_preds == -1, 1, 0)  # Convert to 0/1  \n",
    "\n",
    "# Evaluate standalone performance  \n",
    "print(\"Isolation Forest Report:\")  \n",
    "print(classification_report(y_test, iso_preds))  "
   ]
  },
  {
   "cell_type": "code",
   "execution_count": 12,
   "id": "ed160fa6-574a-4dd2-8aa2-4ac06461aa75",
   "metadata": {},
   "outputs": [
    {
     "name": "stdout",
     "output_type": "stream",
     "text": [
      "\n",
      "ENSEMBLE PERFORMANCE:\n",
      "              precision    recall  f1-score   support\n",
      "\n",
      "           0       1.00      1.00      1.00     56864\n",
      "           1       0.49      0.86      0.63        98\n",
      "\n",
      "    accuracy                           1.00     56962\n",
      "   macro avg       0.75      0.93      0.81     56962\n",
      "weighted avg       1.00      1.00      1.00     56962\n",
      "\n"
     ]
    },
    {
     "data": {
      "image/png": "[encoded data removed]",
      "text/plain": [
       "<Figure size 640x480 with 2 Axes>"
      ]
     },
     "metadata": {},
     "output_type": "display_data"
    }
   ],
   "source": [
    "# Re-run the ensemble predictions\n",
    "final_preds = np.where(\n",
    "    (y_pred_improved == 1) | (iso_preds == 1),\n",
    "    1,  # Mark as fraud\n",
    "    0   # Mark as legit\n",
    ")\n",
    "\n",
    "# Evaluate ensemble\n",
    "print(\"\\nENSEMBLE PERFORMANCE:\")\n",
    "print(classification_report(y_test, final_preds))\n",
    "\n",
    "# Confusion matrix\n",
    "ConfusionMatrixDisplay.from_predictions(y_test, final_preds)\n",
    "plt.title(\"Final Ensemble Model\")\n",
    "plt.show()"
   ]
  },
  {
   "cell_type": "code",
   "execution_count": 13,
   "id": "fabf1ed4-7bff-4bca-8ace-2be8bcfeb137",
   "metadata": {},
   "outputs": [
    {
     "name": "stdout",
     "output_type": "stream",
     "text": [
      "Optimal Threshold: 0.714\n"
     ]
    }
   ],
   "source": [
    "# Get prediction probabilities instead of hard labels  \n",
    "y_prob_xgb = improved_model.predict_proba(X_test)[:, 1]  \n",
    "y_prob_iso = -iso_forest.score_samples(X_test)  # Anomaly scores  \n",
    "\n",
    "# Combine probabilities (weighted average)  \n",
    "combined_scores = 0.7 * y_prob_xgb + 0.3 * y_prob_iso  \n",
    "\n",
    "# Find optimal threshold (maximizes F1-score)  \n",
    "from sklearn.metrics import f1_score  \n",
    "thresholds = np.linspace(0, 1, 50)  \n",
    "f1_scores = [f1_score(y_test, combined_scores >= t) for t in thresholds]  \n",
    "best_threshold = thresholds[np.argmax(f1_scores)]  \n",
    "\n",
    "print(f\"Optimal Threshold: {best_threshold:.3f}\")  "
   ]
  },
  {
   "cell_type": "code",
   "execution_count": 14,
   "id": "f5b31efd-84a4-4c32-a9dd-8a92b3f637d7",
   "metadata": {},
   "outputs": [
    {
     "name": "stdout",
     "output_type": "stream",
     "text": [
      "OPTIMIZED ENSEMBLE PERFORMANCE:\n",
      "              precision    recall  f1-score   support\n",
      "\n",
      "           0       1.00      1.00      1.00     56864\n",
      "           1       0.92      0.83      0.87        98\n",
      "\n",
      "    accuracy                           1.00     56962\n",
      "   macro avg       0.96      0.91      0.94     56962\n",
      "weighted avg       1.00      1.00      1.00     56962\n",
      "\n"
     ]
    },
    {
     "data": {
      "image/png": "[encoded data removed]",
      "text/plain": [
       "<Figure size 640x480 with 1 Axes>"
      ]
     },
     "metadata": {},
     "output_type": "display_data"
    }
   ],
   "source": [
    "# Apply optimal threshold to combined scores  \n",
    "final_predictions = (combined_scores >= best_threshold).astype(int)  \n",
    "\n",
    "# Generate final performance report  \n",
    "print(\"OPTIMIZED ENSEMBLE PERFORMANCE:\")  \n",
    "print(classification_report(y_test, final_predictions))  \n",
    "\n",
    "# Plot precision-recall curve  \n",
    "from sklearn.metrics import PrecisionRecallDisplay  \n",
    "PrecisionRecallDisplay.from_predictions(y_test, combined_scores)  \n",
    "plt.axvline(x=best_threshold, color='red', linestyle='--', label=f'Optimal Threshold ({best_threshold:.2f})')  \n",
    "plt.title(\"Precision-Recall Tradeoff\")  \n",
    "plt.legend()  \n",
    "plt.show()  "
   ]
  },
  {
   "cell_type": "code",
   "execution_count": 15,
   "id": "3ee2c382-3469-46bd-b58d-ea5414bef81f",
   "metadata": {},
   "outputs": [
    {
     "name": "stdout",
     "output_type": "stream",
     "text": [
      "Saved Model Size: 1109.060546875 KB\n",
      "\n",
      "Model saved successfully!\n"
     ]
    }
   ],
   "source": [
    "import joblib  \n",
    "from sklearn.pipeline import Pipeline  \n",
    "\n",
    "# Create a pipeline that includes both models  \n",
    "fraud_pipeline = Pipeline([  \n",
    "    ('xgboost', improved_model),  \n",
    "    ('isolation_forest', iso_forest)  \n",
    "])  \n",
    "\n",
    "# Save the entire pipeline to a single file  \n",
    "joblib.dump(fraud_pipeline, 'fraud_detection_pipeline.joblib')  \n",
    "\n",
    "# Verify the file exists  \n",
    "import os  \n",
    "print(\"Saved Model Size:\", os.path.getsize('fraud_detection_pipeline.joblib')/1024, \"KB\")  \n",
    "print(\"\\nModel saved successfully!\")  "
   ]
  },
  {
   "cell_type": "code",
   "execution_count": 16,
   "id": "cfe95daa-a230-4f83-aee8-232cc4f1f25c",
   "metadata": {},
   "outputs": [
    {
     "name": "stdout",
     "output_type": "stream",
     "text": [
      "Model saved at: D:\\projects\\fraud_detection_pipeline.joblib\n"
     ]
    }
   ],
   "source": [
    "import os\n",
    "print(\"Model saved at:\", os.path.abspath('fraud_detection_pipeline.joblib'))"
   ]
  },
  {
   "cell_type": "code",
   "execution_count": 17,
   "id": "69088e54-094e-49cc-b6d0-9a84cfdea18e",
   "metadata": {},
   "outputs": [
    {
     "name": "stdout",
     "output_type": "stream",
     "text": [
      "Model saved at: D:\\Projects\\fraud_detection_pipeline.joblib\n"
     ]
    }
   ],
   "source": [
    "import joblib\n",
    "import os\n",
    "\n",
    "# Method 1: Raw string (recommended)\n",
    "save_path = r\"D:\\Projects\\fraud_detection_pipeline.joblib\"\n",
    "\n",
    "# Method 2: Forward slashes (also works)\n",
    "# save_path = \"D:/Projects/fraud_detection_pipeline.joblib\"\n",
    "\n",
    "# Create folder if it doesn't exist\n",
    "os.makedirs(os.path.dirname(save_path), exist_ok=True)\n",
    "\n",
    "# Save the model\n",
    "joblib.dump(fraud_pipeline, save_path)\n",
    "\n",
    "# Verify\n",
    "print(f\"Model saved at: {os.path.abspath(save_path)}\")"
   ]
  },
  {
   "cell_type": "code",
   "execution_count": 18,
   "id": "b689d5c8-f4f5-443d-b8fe-7afa9b32b415",
   "metadata": {},
   "outputs": [
    {
     "name": "stdout",
     "output_type": "stream",
     "text": [
      "Your model requires these features in THIS order:\n",
      "['Time', 'V1', 'V2', 'V3', 'V4', 'V5', 'V6', 'V7', 'V8', 'V9', 'V10', 'V11', 'V12', 'V13', 'V14', 'V15', 'V16', 'V17', 'V18', 'V19', 'V20', 'V21', 'V22', 'V23', 'V24', 'V25', 'V26', 'V27', 'V28', 'Amount']\n"
     ]
    }
   ],
   "source": [
    "print(\"Your model requires these features in THIS order:\")  \n",
    "print(list(X_train.columns))  "
   ]
  },
  {
   "cell_type": "code",
   "execution_count": 19,
   "id": "ea04d7b4-8118-4b31-a29f-14edf71b16fd",
   "metadata": {},
   "outputs": [
    {
     "name": "stdout",
     "output_type": "stream",
     "text": [
      "Overwriting D:\\Projects\\api.py\n"
     ]
    }
   ],
   "source": [
    "%%writefile D:\\Projects\\api.py  \n",
    "from fastapi import FastAPI  \n",
    "import joblib  \n",
    "import numpy as np  \n",
    "import pandas as pd  \n",
    "\n",
    "# Load model  \n",
    "model = joblib.load(r\"D:\\Projects\\fraud_detection_pipeline.joblib\")  \n",
    "\n",
    "app = FastAPI()  \n",
    "@app.post(\"/predict\")\n",
    "def predict(transaction: dict):\n",
    "    try:\n",
    "        # Get feature names directly from the model\n",
    "        feature_names = model.named_steps['xgboost'].feature_names_in_\n",
    "        features = pd.DataFrame([transaction])[list(feature_names)]\n",
    "        \n",
    "        # Rest of your prediction code...\n",
    "        xgb_prob = float(model.named_steps['xgboost'].predict_proba(features)[0,1])\n",
    "        iso_score = float(-model.named_steps['isolation_forest'].score_samples(features)[0])\n",
    "        combined_prob = 0.7 * xgb_prob + 0.3 * iso_score\n",
    "        \n",
    "        return {\n",
    "            \"fraud_probability\": combined_prob,\n",
    "            \"is_fraud\": bool(combined_prob >= 0.412)\n",
    "        }\n",
    "        \n",
    "    except Exception as e:\n",
    "        return {\n",
    "            \"error\": str(e),\n",
    "            \"expected_features\": list(model.named_steps['xgboost'].feature_names_in_),\n",
    "            \"received_features\": list(transaction.keys())\n",
    "        }"
   ]
  },
  {
   "cell_type": "code",
   "execution_count": 45,
   "id": "3b9bfc15-a1f0-4922-b452-dd11f47ec9fe",
   "metadata": {
    "scrolled": true
   },
   "outputs": [
    {
     "name": "stdout",
     "output_type": "stream",
     "text": [
      "{'fraud_probability': 0.12857294790610865, 'is_fraud': False}\n"
     ]
    }
   ],
   "source": [
    "import requests\n",
    "\n",
    "# Complete test transaction (include ALL features)\n",
    "test_data = {\n",
    "    \"Time\": 0.0,\n",
    "    \"V1\": -1.23, \"V2\": 0.45, \"V3\": 0.9, \"V4\": -0.5, \"V5\": 1.2,\n",
    "    \"V6\": -0.3, \"V7\": 0.8, \"V8\": -0.7, \"V9\": 0.4, \"V10\": -0.2,\n",
    "    \"V11\": 1.1, \"V12\": -0.9, \"V13\": 0.3, \"V14\": -0.6, \"V15\": 1.0,\n",
    "    \"V16\": -0.4, \"V17\": 0.7, \"V18\": -0.1, \"V19\": 0.5, \"V20\": -0.8,\n",
    "    \"V21\": 0.2, \"V22\": -0.3, \"V23\": 0.6, \"V24\": -0.7, \"V25\": 0.4,\n",
    "    \"V26\": -0.5, \"V27\": 0.3, \"V28\": -0.2,\n",
    "    \"Amount\": 100.0\n",
    "}\n",
    "\n",
    "response = requests.post(\"http://127.0.0.1:8000/predict\", json=test_data)\n",
    "print(response.json())"
   ]
  },
  {
   "cell_type": "code",
   "execution_count": 47,
   "id": "5ee5e243-6ee0-4941-863e-3aa34b1684ce",
   "metadata": {},
   "outputs": [
    {
     "name": "stdout",
     "output_type": "stream",
     "text": [
      "\n",
      "Normal Transaction:\n",
      "                                               error  \\\n",
      "0  \"['V4', 'V5', 'V6', 'V7', 'V8', 'V9', 'V10', '...   \n",
      "\n",
      "                                   expected_features  \\\n",
      "0  [Time, V1, V2, V3, V4, V5, V6, V7, V8, V9, V10...   \n",
      "\n",
      "            received_features  \n",
      "0  [Time, V1, V2, V3, Amount]  \n",
      "\n",
      "Fraud Transaction:\n",
      "                                               error  \\\n",
      "0  \"['V4', 'V5', 'V6', 'V7', 'V8', 'V9', 'V10', '...   \n",
      "\n",
      "                                   expected_features  \\\n",
      "0  [Time, V1, V2, V3, V4, V5, V6, V7, V8, V9, V10...   \n",
      "\n",
      "            received_features  \n",
      "0  [Time, V1, V2, V3, Amount]  \n",
      "\n",
      "Very high amount Transaction:\n",
      "                                               error  \\\n",
      "0  \"['V4', 'V5', 'V6', 'V7', 'V8', 'V9', 'V10', '...   \n",
      "\n",
      "                                   expected_features  \\\n",
      "0  [Time, V1, V2, V3, V4, V5, V6, V7, V8, V9, V10...   \n",
      "\n",
      "            received_features  \n",
      "0  [Amount, Time, V1, V2, V3]  \n",
      "\n",
      "International transaction Transaction:\n",
      "                                               error  \\\n",
      "0  \"['V4', 'V5', 'V6', 'V7', 'V8', 'V9', 'V10', '...   \n",
      "\n",
      "                                   expected_features  \\\n",
      "0  [Time, V1, V2, V3, V4, V5, V6, V7, V8, V9, V10...   \n",
      "\n",
      "            received_features  \n",
      "0  [V3, Time, V1, V2, Amount]  \n"
     ]
    }
   ],
   "source": [
    "import requests\n",
    "import pandas as pd\n",
    "\n",
    "# 1. Normal transaction (should return low fraud probability)\n",
    "normal_tx = {\n",
    "    \"Time\": 0.0,\n",
    "    \"V1\": 1.23, \"V2\": -0.45, \"V3\": 0.2,  # Typical values\n",
    "    # ... (include all other features with normal values) ...\n",
    "    \"Amount\": 50.0\n",
    "}\n",
    "\n",
    "# 2. Fraud pattern (should trigger detection)\n",
    "fraud_tx = {\n",
    "    \"Time\": 0.0,\n",
    "    \"V1\": -5.0, \"V2\": 3.5, \"V3\": -4.2,  # Extreme values\n",
    "    # ... (include all other features with suspicious values) ...\n",
    "    \"Amount\": 9999.0\n",
    "}\n",
    "\n",
    "# 3. Test edge cases\n",
    "edge_cases = [\n",
    "    (\"Very high amount\", {\"Amount\": 100000.0, **normal_tx}),\n",
    "    (\"International transaction\", {\"V3\": 8.0, **normal_tx})\n",
    "]\n",
    "\n",
    "for name, tx in [(\"Normal\", normal_tx), (\"Fraud\", fraud_tx)] + edge_cases:\n",
    "    response = requests.post(\"http://127.0.0.1:8000/predict\", json=tx)\n",
    "    print(f\"\\n{name} Transaction:\")\n",
    "    print(pd.json_normalize(response.json()))"
   ]
  },
  {
   "cell_type": "code",
   "execution_count": 51,
   "id": "08a80069-f883-438a-95b6-15ab9cdba04a",
   "metadata": {},
   "outputs": [
    {
     "name": "stderr",
     "output_type": "stream",
     "text": [
      "C:\\Users\\Admin\\anaconda3\\Lib\\site-packages\\sklearn\\ensemble\\_weight_boosting.py:527: FutureWarning: The SAMME.R algorithm (the default) is deprecated and will be removed in 1.6. Use the SAMME algorithm to circumvent this warning.\n",
      "  warnings.warn(\n"
     ]
    },
    {
     "data": {
      "text/html": [
       "<style>#sk-container-id-1 {\n",
       "  /* Definition of color scheme common for light and dark mode */\n",
       "  --sklearn-color-text: black;\n",
       "  --sklearn-color-line: gray;\n",
       "  /* Definition of color scheme for unfitted estimators */\n",
       "  --sklearn-color-unfitted-level-0: #fff5e6;\n",
       "  --sklearn-color-unfitted-level-1: #f6e4d2;\n",
       "  --sklearn-color-unfitted-level-2: #ffe0b3;\n",
       "  --sklearn-color-unfitted-level-3: chocolate;\n",
       "  /* Definition of color scheme for fitted estimators */\n",
       "  --sklearn-color-fitted-level-0: #f0f8ff;\n",
       "  --sklearn-color-fitted-level-1: #d4ebff;\n",
       "  --sklearn-color-fitted-level-2: #b3dbfd;\n",
       "  --sklearn-color-fitted-level-3: cornflowerblue;\n",
       "\n",
       "  /* Specific color for light theme */\n",
       "  --sklearn-color-text-on-default-background: var(--sg-text-color, var(--theme-code-foreground, var(--jp-content-font-color1, black)));\n",
       "  --sklearn-color-background: var(--sg-background-color, var(--theme-background, var(--jp-layout-color0, white)));\n",
       "  --sklearn-color-border-box: var(--sg-text-color, var(--theme-code-foreground, var(--jp-content-font-color1, black)));\n",
       "  --sklearn-color-icon: #696969;\n",
       "\n",
       "  @media (prefers-color-scheme: dark) {\n",
       "    /* Redefinition of color scheme for dark theme */\n",
       "    --sklearn-color-text-on-default-background: var(--sg-text-color, var(--theme-code-foreground, var(--jp-content-font-color1, white)));\n",
       "    --sklearn-color-background: var(--sg-background-color, var(--theme-background, var(--jp-layout-color0, #111)));\n",
       "    --sklearn-color-border-box: var(--sg-text-color, var(--theme-code-foreground, var(--jp-content-font-color1, white)));\n",
       "    --sklearn-color-icon: #878787;\n",
       "  }\n",
       "}\n",
       "\n",
       "#sk-container-id-1 {\n",
       "  color: var(--sklearn-color-text);\n",
       "}\n",
       "\n",
       "#sk-container-id-1 pre {\n",
       "  padding: 0;\n",
       "}\n",
       "\n",
       "#sk-container-id-1 input.sk-hidden--visually {\n",
       "  border: 0;\n",
       "  clip: rect(1px 1px 1px 1px);\n",
       "  clip: rect(1px, 1px, 1px, 1px);\n",
       "  height: 1px;\n",
       "  margin: -1px;\n",
       "  overflow: hidden;\n",
       "  padding: 0;\n",
       "  position: absolute;\n",
       "  width: 1px;\n",
       "}\n",
       "\n",
       "#sk-container-id-1 div.sk-dashed-wrapped {\n",
       "  border: 1px dashed var(--sklearn-color-line);\n",
       "  margin: 0 0.4em 0.5em 0.4em;\n",
       "  box-sizing: border-box;\n",
       "  padding-bottom: 0.4em;\n",
       "  background-color: var(--sklearn-color-background);\n",
       "}\n",
       "\n",
       "#sk-container-id-1 div.sk-container {\n",
       "  /* jupyter's `normalize.less` sets `[hidden] { display: none; }`\n",
       "     but bootstrap.min.css set `[hidden] { display: none !important; }`\n",
       "     so we also need the `!important` here to be able to override the\n",
       "     default hidden behavior on the sphinx rendered scikit-learn.org.\n",
       "     See: https://github.com/scikit-learn/scikit-learn/issues/21755 */\n",
       "  display: inline-block !important;\n",
       "  position: relative;\n",
       "}\n",
       "\n",
       "#sk-container-id-1 div.sk-text-repr-fallback {\n",
       "  display: none;\n",
       "}\n",
       "\n",
       "div.sk-parallel-item,\n",
       "div.sk-serial,\n",
       "div.sk-item {\n",
       "  /* draw centered vertical line to link estimators */\n",
       "  background-image: linear-gradient(var(--sklearn-color-text-on-default-background), var(--sklearn-color-text-on-default-background));\n",
       "  background-size: 2px 100%;\n",
       "  background-repeat: no-repeat;\n",
       "  background-position: center center;\n",
       "}\n",
       "\n",
       "/* Parallel-specific style estimator block */\n",
       "\n",
       "#sk-container-id-1 div.sk-parallel-item::after {\n",
       "  content: \"\";\n",
       "  width: 100%;\n",
       "  border-bottom: 2px solid var(--sklearn-color-text-on-default-background);\n",
       "  flex-grow: 1;\n",
       "}\n",
       "\n",
       "#sk-container-id-1 div.sk-parallel {\n",
       "  display: flex;\n",
       "  align-items: stretch;\n",
       "  justify-content: center;\n",
       "  background-color: var(--sklearn-color-background);\n",
       "  position: relative;\n",
       "}\n",
       "\n",
       "#sk-container-id-1 div.sk-parallel-item {\n",
       "  display: flex;\n",
       "  flex-direction: column;\n",
       "}\n",
       "\n",
       "#sk-container-id-1 div.sk-parallel-item:first-child::after {\n",
       "  align-self: flex-end;\n",
       "  width: 50%;\n",
       "}\n",
       "\n",
       "#sk-container-id-1 div.sk-parallel-item:last-child::after {\n",
       "  align-self: flex-start;\n",
       "  width: 50%;\n",
       "}\n",
       "\n",
       "#sk-container-id-1 div.sk-parallel-item:only-child::after {\n",
       "  width: 0;\n",
       "}\n",
       "\n",
       "/* Serial-specific style estimator block */\n",
       "\n",
       "#sk-container-id-1 div.sk-serial {\n",
       "  display: flex;\n",
       "  flex-direction: column;\n",
       "  align-items: center;\n",
       "  background-color: var(--sklearn-color-background);\n",
       "  padding-right: 1em;\n",
       "  padding-left: 1em;\n",
       "}\n",
       "\n",
       "\n",
       "/* Toggleable style: style used for estimator/Pipeline/ColumnTransformer box that is\n",
       "clickable and can be expanded/collapsed.\n",
       "- Pipeline and ColumnTransformer use this feature and define the default style\n",
       "- Estimators will overwrite some part of the style using the `sk-estimator` class\n",
       "*/\n",
       "\n",
       "/* Pipeline and ColumnTransformer style (default) */\n",
       "\n",
       "#sk-container-id-1 div.sk-toggleable {\n",
       "  /* Default theme specific background. It is overwritten whether we have a\n",
       "  specific estimator or a Pipeline/ColumnTransformer */\n",
       "  background-color: var(--sklearn-color-background);\n",
       "}\n",
       "\n",
       "/* Toggleable label */\n",
       "#sk-container-id-1 label.sk-toggleable__label {\n",
       "  cursor: pointer;\n",
       "  display: block;\n",
       "  width: 100%;\n",
       "  margin-bottom: 0;\n",
       "  padding: 0.5em;\n",
       "  box-sizing: border-box;\n",
       "  text-align: center;\n",
       "}\n",
       "\n",
       "#sk-container-id-1 label.sk-toggleable__label-arrow:before {\n",
       "  /* Arrow on the left of the label */\n",
       "  content: \"▸\";\n",
       "  float: left;\n",
       "  margin-right: 0.25em;\n",
       "  color: var(--sklearn-color-icon);\n",
       "}\n",
       "\n",
       "#sk-container-id-1 label.sk-toggleable__label-arrow:hover:before {\n",
       "  color: var(--sklearn-color-text);\n",
       "}\n",
       "\n",
       "/* Toggleable content - dropdown */\n",
       "\n",
       "#sk-container-id-1 div.sk-toggleable__content {\n",
       "  max-height: 0;\n",
       "  max-width: 0;\n",
       "  overflow: hidden;\n",
       "  text-align: left;\n",
       "  /* unfitted */\n",
       "  background-color: var(--sklearn-color-unfitted-level-0);\n",
       "}\n",
       "\n",
       "#sk-container-id-1 div.sk-toggleable__content.fitted {\n",
       "  /* fitted */\n",
       "  background-color: var(--sklearn-color-fitted-level-0);\n",
       "}\n",
       "\n",
       "#sk-container-id-1 div.sk-toggleable__content pre {\n",
       "  margin: 0.2em;\n",
       "  border-radius: 0.25em;\n",
       "  color: var(--sklearn-color-text);\n",
       "  /* unfitted */\n",
       "  background-color: var(--sklearn-color-unfitted-level-0);\n",
       "}\n",
       "\n",
       "#sk-container-id-1 div.sk-toggleable__content.fitted pre {\n",
       "  /* unfitted */\n",
       "  background-color: var(--sklearn-color-fitted-level-0);\n",
       "}\n",
       "\n",
       "#sk-container-id-1 input.sk-toggleable__control:checked~div.sk-toggleable__content {\n",
       "  /* Expand drop-down */\n",
       "  max-height: 200px;\n",
       "  max-width: 100%;\n",
       "  overflow: auto;\n",
       "}\n",
       "\n",
       "#sk-container-id-1 input.sk-toggleable__control:checked~label.sk-toggleable__label-arrow:before {\n",
       "  content: \"▾\";\n",
       "}\n",
       "\n",
       "/* Pipeline/ColumnTransformer-specific style */\n",
       "\n",
       "#sk-container-id-1 div.sk-label input.sk-toggleable__control:checked~label.sk-toggleable__label {\n",
       "  color: var(--sklearn-color-text);\n",
       "  background-color: var(--sklearn-color-unfitted-level-2);\n",
       "}\n",
       "\n",
       "#sk-container-id-1 div.sk-label.fitted input.sk-toggleable__control:checked~label.sk-toggleable__label {\n",
       "  background-color: var(--sklearn-color-fitted-level-2);\n",
       "}\n",
       "\n",
       "/* Estimator-specific style */\n",
       "\n",
       "/* Colorize estimator box */\n",
       "#sk-container-id-1 div.sk-estimator input.sk-toggleable__control:checked~label.sk-toggleable__label {\n",
       "  /* unfitted */\n",
       "  background-color: var(--sklearn-color-unfitted-level-2);\n",
       "}\n",
       "\n",
       "#sk-container-id-1 div.sk-estimator.fitted input.sk-toggleable__control:checked~label.sk-toggleable__label {\n",
       "  /* fitted */\n",
       "  background-color: var(--sklearn-color-fitted-level-2);\n",
       "}\n",
       "\n",
       "#sk-container-id-1 div.sk-label label.sk-toggleable__label,\n",
       "#sk-container-id-1 div.sk-label label {\n",
       "  /* The background is the default theme color */\n",
       "  color: var(--sklearn-color-text-on-default-background);\n",
       "}\n",
       "\n",
       "/* On hover, darken the color of the background */\n",
       "#sk-container-id-1 div.sk-label:hover label.sk-toggleable__label {\n",
       "  color: var(--sklearn-color-text);\n",
       "  background-color: var(--sklearn-color-unfitted-level-2);\n",
       "}\n",
       "\n",
       "/* Label box, darken color on hover, fitted */\n",
       "#sk-container-id-1 div.sk-label.fitted:hover label.sk-toggleable__label.fitted {\n",
       "  color: var(--sklearn-color-text);\n",
       "  background-color: var(--sklearn-color-fitted-level-2);\n",
       "}\n",
       "\n",
       "/* Estimator label */\n",
       "\n",
       "#sk-container-id-1 div.sk-label label {\n",
       "  font-family: monospace;\n",
       "  font-weight: bold;\n",
       "  display: inline-block;\n",
       "  line-height: 1.2em;\n",
       "}\n",
       "\n",
       "#sk-container-id-1 div.sk-label-container {\n",
       "  text-align: center;\n",
       "}\n",
       "\n",
       "/* Estimator-specific */\n",
       "#sk-container-id-1 div.sk-estimator {\n",
       "  font-family: monospace;\n",
       "  border: 1px dotted var(--sklearn-color-border-box);\n",
       "  border-radius: 0.25em;\n",
       "  box-sizing: border-box;\n",
       "  margin-bottom: 0.5em;\n",
       "  /* unfitted */\n",
       "  background-color: var(--sklearn-color-unfitted-level-0);\n",
       "}\n",
       "\n",
       "#sk-container-id-1 div.sk-estimator.fitted {\n",
       "  /* fitted */\n",
       "  background-color: var(--sklearn-color-fitted-level-0);\n",
       "}\n",
       "\n",
       "/* on hover */\n",
       "#sk-container-id-1 div.sk-estimator:hover {\n",
       "  /* unfitted */\n",
       "  background-color: var(--sklearn-color-unfitted-level-2);\n",
       "}\n",
       "\n",
       "#sk-container-id-1 div.sk-estimator.fitted:hover {\n",
       "  /* fitted */\n",
       "  background-color: var(--sklearn-color-fitted-level-2);\n",
       "}\n",
       "\n",
       "/* Specification for estimator info (e.g. \"i\" and \"?\") */\n",
       "\n",
       "/* Common style for \"i\" and \"?\" */\n",
       "\n",
       ".sk-estimator-doc-link,\n",
       "a:link.sk-estimator-doc-link,\n",
       "a:visited.sk-estimator-doc-link {\n",
       "  float: right;\n",
       "  font-size: smaller;\n",
       "  line-height: 1em;\n",
       "  font-family: monospace;\n",
       "  background-color: var(--sklearn-color-background);\n",
       "  border-radius: 1em;\n",
       "  height: 1em;\n",
       "  width: 1em;\n",
       "  text-decoration: none !important;\n",
       "  margin-left: 1ex;\n",
       "  /* unfitted */\n",
       "  border: var(--sklearn-color-unfitted-level-1) 1pt solid;\n",
       "  color: var(--sklearn-color-unfitted-level-1);\n",
       "}\n",
       "\n",
       ".sk-estimator-doc-link.fitted,\n",
       "a:link.sk-estimator-doc-link.fitted,\n",
       "a:visited.sk-estimator-doc-link.fitted {\n",
       "  /* fitted */\n",
       "  border: var(--sklearn-color-fitted-level-1) 1pt solid;\n",
       "  color: var(--sklearn-color-fitted-level-1);\n",
       "}\n",
       "\n",
       "/* On hover */\n",
       "div.sk-estimator:hover .sk-estimator-doc-link:hover,\n",
       ".sk-estimator-doc-link:hover,\n",
       "div.sk-label-container:hover .sk-estimator-doc-link:hover,\n",
       ".sk-estimator-doc-link:hover {\n",
       "  /* unfitted */\n",
       "  background-color: var(--sklearn-color-unfitted-level-3);\n",
       "  color: var(--sklearn-color-background);\n",
       "  text-decoration: none;\n",
       "}\n",
       "\n",
       "div.sk-estimator.fitted:hover .sk-estimator-doc-link.fitted:hover,\n",
       ".sk-estimator-doc-link.fitted:hover,\n",
       "div.sk-label-container:hover .sk-estimator-doc-link.fitted:hover,\n",
       ".sk-estimator-doc-link.fitted:hover {\n",
       "  /* fitted */\n",
       "  background-color: var(--sklearn-color-fitted-level-3);\n",
       "  color: var(--sklearn-color-background);\n",
       "  text-decoration: none;\n",
       "}\n",
       "\n",
       "/* Span, style for the box shown on hovering the info icon */\n",
       ".sk-estimator-doc-link span {\n",
       "  display: none;\n",
       "  z-index: 9999;\n",
       "  position: relative;\n",
       "  font-weight: normal;\n",
       "  right: .2ex;\n",
       "  padding: .5ex;\n",
       "  margin: .5ex;\n",
       "  width: min-content;\n",
       "  min-width: 20ex;\n",
       "  max-width: 50ex;\n",
       "  color: var(--sklearn-color-text);\n",
       "  box-shadow: 2pt 2pt 4pt #999;\n",
       "  /* unfitted */\n",
       "  background: var(--sklearn-color-unfitted-level-0);\n",
       "  border: .5pt solid var(--sklearn-color-unfitted-level-3);\n",
       "}\n",
       "\n",
       ".sk-estimator-doc-link.fitted span {\n",
       "  /* fitted */\n",
       "  background: var(--sklearn-color-fitted-level-0);\n",
       "  border: var(--sklearn-color-fitted-level-3);\n",
       "}\n",
       "\n",
       ".sk-estimator-doc-link:hover span {\n",
       "  display: block;\n",
       "}\n",
       "\n",
       "/* \"?\"-specific style due to the `<a>` HTML tag */\n",
       "\n",
       "#sk-container-id-1 a.estimator_doc_link {\n",
       "  float: right;\n",
       "  font-size: 1rem;\n",
       "  line-height: 1em;\n",
       "  font-family: monospace;\n",
       "  background-color: var(--sklearn-color-background);\n",
       "  border-radius: 1rem;\n",
       "  height: 1rem;\n",
       "  width: 1rem;\n",
       "  text-decoration: none;\n",
       "  /* unfitted */\n",
       "  color: var(--sklearn-color-unfitted-level-1);\n",
       "  border: var(--sklearn-color-unfitted-level-1) 1pt solid;\n",
       "}\n",
       "\n",
       "#sk-container-id-1 a.estimator_doc_link.fitted {\n",
       "  /* fitted */\n",
       "  border: var(--sklearn-color-fitted-level-1) 1pt solid;\n",
       "  color: var(--sklearn-color-fitted-level-1);\n",
       "}\n",
       "\n",
       "/* On hover */\n",
       "#sk-container-id-1 a.estimator_doc_link:hover {\n",
       "  /* unfitted */\n",
       "  background-color: var(--sklearn-color-unfitted-level-3);\n",
       "  color: var(--sklearn-color-background);\n",
       "  text-decoration: none;\n",
       "}\n",
       "\n",
       "#sk-container-id-1 a.estimator_doc_link.fitted:hover {\n",
       "  /* fitted */\n",
       "  background-color: var(--sklearn-color-fitted-level-3);\n",
       "}\n",
       "</style><div id=\"sk-container-id-1\" class=\"sk-top-container\"><div class=\"sk-text-repr-fallback\"><pre>AdaBoostClassifier(random_state=42)</pre><b>In a Jupyter environment, please rerun this cell to show the HTML representation or trust the notebook. <br />On GitHub, the HTML representation is unable to render, please try loading this page with nbviewer.org.</b></div><div class=\"sk-container\" hidden><div class=\"sk-item\"><div class=\"sk-estimator fitted sk-toggleable\"><input class=\"sk-toggleable__control sk-hidden--visually\" id=\"sk-estimator-id-1\" type=\"checkbox\" checked><label for=\"sk-estimator-id-1\" class=\"sk-toggleable__label fitted sk-toggleable__label-arrow fitted\">&nbsp;&nbsp;AdaBoostClassifier<a class=\"sk-estimator-doc-link fitted\" rel=\"noreferrer\" target=\"_blank\" href=\"https://scikit-learn.org/1.5/modules/generated/sklearn.ensemble.AdaBoostClassifier.html\">?<span>Documentation for AdaBoostClassifier</span></a><span class=\"sk-estimator-doc-link fitted\">i<span>Fitted</span></span></label><div class=\"sk-toggleable__content fitted\"><pre>AdaBoostClassifier(random_state=42)</pre></div> </div></div></div></div>"
      ],
      "text/plain": [
       "AdaBoostClassifier(random_state=42)"
      ]
     },
     "execution_count": 51,
     "metadata": {},
     "output_type": "execute_result"
    }
   ],
   "source": [
    "from sklearn.ensemble import AdaBoostClassifier\n",
    "\n",
    "# Initialize and train AdaBoost\n",
    "ada = AdaBoostClassifier(n_estimators=50, random_state=42)\n",
    "ada.fit(X_res, y_res)  # Use your SMOTE-resampled data"
   ]
  },
  {
   "cell_type": "code",
   "execution_count": 52,
   "id": "89ea7bc5-1fa3-42c3-8b95-6313d238b7a5",
   "metadata": {},
   "outputs": [
    {
     "name": "stdout",
     "output_type": "stream",
     "text": [
      "AdaBoost Recall (Fraud Class): 0.8469387755102041\n"
     ]
    }
   ],
   "source": [
    "from sklearn.metrics import classification_report\n",
    "\n",
    "ada_pred = ada.predict(X_test)\n",
    "report = classification_report(y_test, ada_pred, output_dict=True)\n",
    "print(\"AdaBoost Recall (Fraud Class):\", report[\"1\"][\"recall\"])"
   ]
  },
  {
   "cell_type": "code",
   "execution_count": 57,
   "id": "b77407ee-808c-4b34-acae-0eb49f2f14fc",
   "metadata": {},
   "outputs": [],
   "source": [
    "# Compare your ensemble vs baseline  # If you haven't saved XGBoost's predictions:\n",
    "y_pred_xgb = improved_model.predict(X_test)  # Use your XGBoost model's name\n",
    "\n",
    "# Or if you have them as 'y_pred' from earlier:\n",
    "# y_pred_xgb = y_pred  # Use your actual variable name"
   ]
  },
  {
   "cell_type": "code",
   "execution_count": 59,
   "id": "bb5f7bf8-ad3b-4935-8672-d522cecb2dd5",
   "metadata": {},
   "outputs": [],
   "source": [
    "# Ensure you have final ensemble predictions\n",
    "ensemble_pred = (combined_scores >= 0.412).astype(int)  # Use your threshold"
   ]
  },
  {
   "cell_type": "code",
   "execution_count": 61,
   "id": "ea6e4c86-7ba7-4949-a362-a4e8588f9b64",
   "metadata": {},
   "outputs": [
    {
     "name": "stdout",
     "output_type": "stream",
     "text": [
      "False Positive Reduction: -33.3%\n"
     ]
    }
   ],
   "source": [
    "fp_baseline = ((y_test == 0) & (y_pred_xgb == 1)).sum()\n",
    "fp_final = ((y_test == 0) & (ensemble_pred == 1)).sum()\n",
    "reduction = (fp_baseline - fp_final) / fp_baseline * 100\n",
    "print(f\"False Positive Reduction: {reduction:.1f}%\")"
   ]
  },
  {
   "cell_type": "code",
   "execution_count": 63,
   "id": "fccd5d15-147c-4a35-8f2b-443618070e3e",
   "metadata": {},
   "outputs": [
    {
     "name": "stdout",
     "output_type": "stream",
     "text": [
      "Total transactions: 284807\n"
     ]
    }
   ],
   "source": [
    "print(\"Total transactions:\", len(df))  "
   ]
  },
  {
   "cell_type": "code",
   "execution_count": 65,
   "id": "4b9d37ff-6b36-4a6a-878b-ea67b31d3c35",
   "metadata": {},
   "outputs": [
    {
     "name": "stdout",
     "output_type": "stream",
     "text": [
      "Best Weights: {'xgb': 0.6, 'iso': 0.25, 'ada': 0.15}\n",
      "Best Threshold: 0.694\n",
      "\n",
      "Classification Report:\n",
      "              precision    recall  f1-score   support\n",
      "\n",
      "           0       1.00      1.00      1.00     56864\n",
      "           1       0.93      0.84      0.88        98\n",
      "\n",
      "    accuracy                           1.00     56962\n",
      "   macro avg       0.97      0.92      0.94     56962\n",
      "weighted avg       1.00      1.00      1.00     56962\n",
      "\n",
      "\n",
      "False Positives Reduced from 15 to 6 (60.0% improvement)\n"
     ]
    }
   ],
   "source": [
    "import numpy as np\n",
    "from sklearn.metrics import f1_score, classification_report\n",
    "\n",
    "# 1. Get all model outputs (ensure variables exist)\n",
    "xgb_probs = improved_model.predict_proba(X_test)[:, 1]  # XGBoost probabilities\n",
    "iso_scores = -iso_forest.score_samples(X_test)          # Isolation Forest scores\n",
    "ada_probs = ada.predict_proba(X_test)[:, 1]            # AdaBoost probabilities\n",
    "\n",
    "# 2. Normalize Isolation Forest scores to [0,1]\n",
    "iso_scores_norm = (iso_scores - iso_scores.min()) / (iso_scores.max() - iso_scores.min())\n",
    "\n",
    "# 3. Test weight combinations\n",
    "weight_options = [\n",
    "    {'xgb': 0.6, 'iso': 0.25, 'ada': 0.15},  # Proposed weights\n",
    "    {'xgb': 0.7, 'iso': 0.2, 'ada': 0.1},    # More weight to XGBoost\n",
    "    {'xgb': 0.5, 'iso': 0.3, 'ada': 0.2}     # Original weights\n",
    "]\n",
    "\n",
    "best_f1 = -1\n",
    "best_weights = None\n",
    "best_threshold = 0\n",
    "\n",
    "for weights in weight_options:\n",
    "    # Blend predictions\n",
    "    blended_probs = (weights['xgb'] * xgb_probs + \n",
    "                     weights['iso'] * iso_scores_norm + \n",
    "                     weights['ada'] * ada_probs)\n",
    "    \n",
    "    # Find optimal threshold for this blend\n",
    "    thresholds = np.linspace(0, 1, 50)\n",
    "    f1_scores = [f1_score(y_test, (blended_probs >= t).astype(int)) for t in thresholds]\n",
    "    current_threshold = thresholds[np.argmax(f1_scores)]\n",
    "    current_f1 = max(f1_scores)\n",
    "    \n",
    "    # Track best performer\n",
    "    if current_f1 > best_f1:\n",
    "        best_f1 = current_f1\n",
    "        best_weights = weights\n",
    "        best_threshold = current_threshold\n",
    "\n",
    "# 4. Evaluate best combination\n",
    "final_probs = (best_weights['xgb'] * xgb_probs + \n",
    "               best_weights['iso'] * iso_scores_norm + \n",
    "               best_weights['ada'] * ada_probs)\n",
    "final_pred = (final_probs >= best_threshold).astype(int)\n",
    "\n",
    "print(f\"Best Weights: {best_weights}\")\n",
    "print(f\"Best Threshold: {best_threshold:.3f}\")\n",
    "print(\"\\nClassification Report:\")\n",
    "print(classification_report(y_test, final_pred))\n",
    "\n",
    "# 5. Compare with baseline\n",
    "fp_baseline = ((y_test == 0) & (xgb_probs >= 0.5).astype(int)).sum()\n",
    "fp_final = ((y_test == 0) & (final_pred == 1)).sum()\n",
    "print(f\"\\nFalse Positives Reduced from {fp_baseline} to {fp_final} ({((fp_baseline - fp_final)/fp_baseline*100):.1f}% improvement)\")"
   ]
  },
  {
   "cell_type": "code",
   "execution_count": 67,
   "id": "36f64558-6d3e-4595-a8f7-68a1e0b548bb",
   "metadata": {},
   "outputs": [],
   "source": [
    "# Updated FastAPI endpoint (api.py)\n",
    "from fastapi import FastAPI, HTTPException\n",
    "from pydantic import BaseModel\n",
    "import joblib\n",
    "import numpy as np\n",
    "import pandas as pd\n",
    "\n",
    "app = FastAPI()\n",
    "\n",
    "# Load model and config\n",
    "model = joblib.load(r\"D:\\Projects\\fraud_detection_pipeline.joblib\")\n",
    "OPTIMAL_WEIGHTS = {'xgb': 0.6, 'iso': 0.25, 'ada': 0.15}  # From your blending\n",
    "OPTIMAL_THRESHOLD = 0.412  # Your best threshold\n",
    "\n",
    "class Transaction(BaseModel):\n",
    "    Time: float\n",
    "    V1: float\n",
    "    # ... include ALL 30 features ...\n",
    "    Amount: float\n",
    "\n",
    "@app.post(\"/predict\")\n",
    "async def predict(transaction: Transaction):\n",
    "    try:\n",
    "        # Convert to DataFrame\n",
    "        features = pd.DataFrame([transaction.dict()])\n",
    "        \n",
    "        # Get model components\n",
    "        xgb = model.named_steps['xgboost']\n",
    "        iso = model.named_steps['isolation_forest']\n",
    "        ada = model.named_steps['adaboost']  # Ensure this exists in your pipeline\n",
    "        \n",
    "        # Generate probabilities\n",
    "        xgb_prob = xgb.predict_proba(features)[0, 1]\n",
    "        iso_score = -iso.score_samples(features)[0]\n",
    "        ada_prob = ada.predict_proba(features)[0, 1]\n",
    "        \n",
    "        # Normalize Isolation Forest score to [0,1]\n",
    "        iso_norm = (iso_score - iso_score.min()) / (iso_score.max() - iso_score.min())\n",
    "        \n",
    "        # Blend predictions\n",
    "        combined_prob = (\n",
    "            OPTIMAL_WEIGHTS['xgb'] * xgb_prob +\n",
    "            OPTIMAL_WEIGHTS['iso'] * iso_norm +\n",
    "            OPTIMAL_WEIGHTS['ada'] * ada_prob\n",
    "        )\n",
    "        \n",
    "        return {\n",
    "            \"fraud_probability\": float(combined_prob),\n",
    "            \"is_fraud\": bool(combined_prob >= OPTIMAL_THRESHOLD),\n",
    "            \"model_weights\": OPTIMAL_WEIGHTS\n",
    "        }\n",
    "        \n",
    "    except Exception as e:\n",
    "        raise HTTPException(status_code=400, detail=str(e))"
   ]
  },
  {
   "cell_type": "code",
   "execution_count": 69,
   "id": "79afd635-9113-4c64-a030-7421819bcb89",
   "metadata": {},
   "outputs": [
    {
     "data": {
      "image/png": "[encoded data removed]",
      "text/plain": [
       "<Figure size 1000x500 with 1 Axes>"
      ]
     },
     "metadata": {},
     "output_type": "display_data"
    }
   ],
   "source": [
    "# Generate the plot (add this to your analysis notebook)\n",
    "import matplotlib.pyplot as plt\n",
    "import numpy as np\n",
    "from sklearn.metrics import f1_score\n",
    "\n",
    "# Your existing blended probabilities (from the ensemble)\n",
    "blended_probs = 0.6*xgb_probs + 0.25*iso_scores_norm + 0.15*ada_probs\n",
    "\n",
    "# Calculate F1 across thresholds\n",
    "thresholds = np.linspace(0, 1, 50)\n",
    "f1_scores = [f1_score(y_test, (blended_probs >= t).astype(int)) for t in thresholds]\n",
    "\n",
    "# Plot\n",
    "plt.figure(figsize=(10, 5))\n",
    "plt.plot(thresholds, f1_scores, label='F1-score', linewidth=2)\n",
    "plt.axvline(OPTIMAL_THRESHOLD, color='red', linestyle='--', \n",
    "            label=f'Optimal Threshold ({OPTIMAL_THRESHOLD:.3f})')\n",
    "plt.xlabel(\"Classification Threshold\", fontsize=12)\n",
    "plt.ylabel(\"F1-Score\", fontsize=12)\n",
    "plt.title(\"Threshold Optimization for Fraud Detection\", fontsize=14)\n",
    "plt.legend()\n",
    "plt.grid(True, alpha=0.3)\n",
    "plt.show()"
   ]
  },
  {
   "cell_type": "code",
   "execution_count": null,
   "id": "c8e7f092-3ac2-47dc-997a-db9a20da886a",
   "metadata": {},
   "outputs": [],
   "source": []
  }
 ],
 "metadata": {
  "kernelspec": {
   "display_name": "Python [conda env:base] *",
   "language": "python",
   "name": "conda-base-py"
  },
  "language_info": {
   "codemirror_mode": {
    "name": "ipython",
    "version": 3
   },
   "file_extension": ".py",
   "mimetype": "text/x-python",
   "name": "python",
   "nbconvert_exporter": "python",
   "pygments_lexer": "ipython3",
   "version": "3.12.7"
  }
 },
 "nbformat": 4,
 "nbformat_minor": 5
}
